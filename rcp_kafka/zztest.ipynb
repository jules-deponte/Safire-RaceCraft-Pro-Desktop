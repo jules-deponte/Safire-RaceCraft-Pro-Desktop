{
 "cells": [
  {
   "cell_type": "code",
   "execution_count": 3,
   "metadata": {},
   "outputs": [],
   "source": [
    "\n",
    "import sqlite3\n",
    "\n",
    "# This file creates a customtkinter window which allows the user to configure the Kafka cluster.\n",
    "# It creates a connection to a SQLite database, which will contain the values of the IP addresses\n",
    "# for the zookeeper and borkers.\n",
    "\n",
    "# Create a connection to the ips_db database in the root folder, and create the ips table.\n",
    "connection = sqlite3.connect(r'..\\ips_db.db')\n",
    "connection.execute('''CREATE TABLE IF NOT EXISTS ips \n",
    "    (\n",
    "        type INTEGER,\n",
    "        broker_id INTEGER,\n",
    "        broker_ip TEXT\n",
    "    )'''\n",
    ")\n",
    "connection.commit()\n"
   ]
  }
 ],
 "metadata": {
  "kernelspec": {
   "display_name": "Python 3",
   "language": "python",
   "name": "python3"
  },
  "language_info": {
   "codemirror_mode": {
    "name": "ipython",
    "version": 3
   },
   "file_extension": ".py",
   "mimetype": "text/x-python",
   "name": "python",
   "nbconvert_exporter": "python",
   "pygments_lexer": "ipython3",
   "version": "3.10.10"
  }
 },
 "nbformat": 4,
 "nbformat_minor": 2
}
